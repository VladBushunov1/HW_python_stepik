{
 "cells": [
  {
   "cell_type": "code",
   "execution_count": 37,
   "id": "856a3f1e-9854-4bb8-81d1-feb8f5f61a7e",
   "metadata": {},
   "outputs": [
    {
     "name": "stdout",
     "output_type": "stream",
     "text": [
      "Общая выручка: 23.5\n",
      "Список товаров по категориям: {'fruit': ['apple', 'banana'], 'dairy': ['milk'], 'bakery': ['bread']}\n",
      "Список покупок, где цена превышает заданное значение: [{'item': 'banana', 'category': 'fruit', 'price': 0.5, 'quantity': 5}]\n",
      "Средняя цена товаров по категориям: {'fruit': 0.85, 'dairy': 1.5, 'bakery': 2.0}\n",
      "Категория с наибольшим числом проданных товаров: fruit\n"
     ]
    }
   ],
   "source": [
    "import numpy as np\n",
    "purchases = [\n",
    "    {\"item\": \"apple\", \"category\": \"fruit\", \"price\": 1.2, \"quantity\": 10},\n",
    "    {\"item\": \"banana\", \"category\": \"fruit\", \"price\": 0.5, \"quantity\": 5},\n",
    "    {\"item\": \"milk\", \"category\": \"dairy\", \"price\": 1.5, \"quantity\": 2},\n",
    "    {\"item\": \"bread\", \"category\": \"bakery\", \"price\": 2.0, \"quantity\": 3},\n",
    "]\n",
    "\n",
    "def total_revenue(purchases):\n",
    "    total_rev = 0\n",
    "    for di in purchases:\n",
    "        total_rev += di['price'] * di['quantity']\n",
    "    return total_rev\n",
    "    \n",
    "def items_by_category(purchases):\n",
    "    total_di = dict()\n",
    "    temp = ''\n",
    "    for di in purchases:\n",
    "        for k, v in di.items():\n",
    "           if k == 'category':\n",
    "                total_di[v] = [] \n",
    "    for di in purchases:\n",
    "        for k, v in di.items():\n",
    "            if k == 'item':\n",
    "                temp = v\n",
    "            if k == 'category':\n",
    "                total_di[v].append(temp)\n",
    "    return total_di\n",
    "    \n",
    "def expensive_purchases(purchases, min_price):\n",
    "    purch_list = []\n",
    "    for di in purchases:\n",
    "        if min_price >= di['price']:\n",
    "            purch_list.append(di)\n",
    "    return purch_list\n",
    "    \n",
    "def average_price_by_category(purchases):\n",
    "    total_di = dict()\n",
    "    for di in purchases:\n",
    "        for k, v in di.items():\n",
    "           if k == 'category':\n",
    "                total_di[v] = [] \n",
    "    for di in purchases:\n",
    "       total_di[di['category']].append(di['price'])\n",
    "    for k, v in total_di.items():\n",
    "        total_di[k] = np.mean(v)\n",
    "    return total_di\n",
    "    \n",
    "def most_frequent_category(purchases):\n",
    "    total_di = dict()\n",
    "    for di in purchases:\n",
    "        for k, v in di.items():\n",
    "           if k == 'category':\n",
    "                total_di[v] = [] \n",
    "    for di in purchases:\n",
    "       total_di[di['category']].append(di['quantity'])\n",
    "    for k, v in total_di.items():\n",
    "        total_di[k] = np.sum(v)\n",
    "    maxi = 0\n",
    "    max_cat = ''\n",
    "    for k, v in total_di.items():\n",
    "        if maxi < v:\n",
    "            maxi = v\n",
    "            max_cat = k\n",
    "    return max_cat\n",
    "print(f'Общая выручка: {total_revenue(purchases)}')\n",
    "print(f'Список товаров по категориям: {items_by_category(purchases)}')\n",
    "print(f'Список покупок, где цена превышает заданное значение: {expensive_purchases(purchases, 1)}')\n",
    "print(f'Средняя цена товаров по категориям: {average_price_by_category(purchases)}')\n",
    "print(f'Категория с наибольшим числом проданных товаров: {most_frequent_category(purchases)}')"
   ]
  },
  {
   "cell_type": "code",
   "execution_count": null,
   "id": "b41ba20e-1ca4-409a-8ca8-d30208948f76",
   "metadata": {},
   "outputs": [],
   "source": []
  },
  {
   "cell_type": "code",
   "execution_count": null,
   "id": "e48acca5-cbed-46de-81f1-b653052a18b8",
   "metadata": {},
   "outputs": [],
   "source": []
  },
  {
   "cell_type": "code",
   "execution_count": null,
   "id": "e94729bb-c0b1-49ed-839d-f3fe5480900d",
   "metadata": {},
   "outputs": [],
   "source": []
  },
  {
   "cell_type": "code",
   "execution_count": null,
   "id": "dc1c3edb-781b-40c4-8ecf-d85a847939d2",
   "metadata": {},
   "outputs": [],
   "source": []
  },
  {
   "cell_type": "code",
   "execution_count": null,
   "id": "1556a0fc-9576-4c92-ac24-ff3df330ea2c",
   "metadata": {},
   "outputs": [],
   "source": []
  },
  {
   "cell_type": "code",
   "execution_count": null,
   "id": "8e5f8c3c-a228-4ec2-a8fb-2662ab571755",
   "metadata": {},
   "outputs": [],
   "source": []
  }
 ],
 "metadata": {
  "kernelspec": {
   "display_name": "Python 3 (ipykernel)",
   "language": "python",
   "name": "python3"
  },
  "language_info": {
   "codemirror_mode": {
    "name": "ipython",
    "version": 3
   },
   "file_extension": ".py",
   "mimetype": "text/x-python",
   "name": "python",
   "nbconvert_exporter": "python",
   "pygments_lexer": "ipython3",
   "version": "3.12.4"
  }
 },
 "nbformat": 4,
 "nbformat_minor": 5
}
